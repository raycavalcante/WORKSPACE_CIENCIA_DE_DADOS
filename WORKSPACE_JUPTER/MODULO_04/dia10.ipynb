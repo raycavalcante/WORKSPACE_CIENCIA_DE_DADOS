{
 "cells": [
  {
   "cell_type": "markdown",
   "id": "788693ff-5ee6-4a79-9eca-5cddb6019478",
   "metadata": {},
   "source": [
    "### Fazendo exercicíos"
   ]
  },
  {
   "cell_type": "code",
   "execution_count": 4,
   "id": "679e2581-665d-48da-83fc-f7e37421077c",
   "metadata": {},
   "outputs": [
    {
     "name": "stdin",
     "output_type": "stream",
     "text": [
      "Entre com um numero:  55\n"
     ]
    },
    {
     "name": "stdout",
     "output_type": "stream",
     "text": [
      "O número esta dentro de 20 e 90\n"
     ]
    }
   ],
   "source": [
    "# QUES01\n",
    "num = int(input('Entre com um numero: '))\n",
    "saida = 'esta fora'\n",
    "if num > 19 and num < 91:\n",
    "    saida = 'O número esta dentro de 20 e 90'\n",
    "print(saida)"
   ]
  },
  {
   "cell_type": "code",
   "execution_count": 14,
   "id": "11ec7e10-ea59-4802-b7e2-c18a1e33ab2e",
   "metadata": {},
   "outputs": [
    {
     "name": "stdout",
     "output_type": "stream",
     "text": [
      "-0.2\n"
     ]
    }
   ],
   "source": [
    "# QUES02\n",
    "# variaaveis\n",
    "a = 2\n",
    "b = 3\n",
    "c = 5\n",
    "d = 9\n",
    "# quadro 01\n",
    "if not d > 5:\n",
    "    print(( a + b ) * d)\n",
    "else:\n",
    "    print(( a - b ) / c)\n",
    "    "
   ]
  },
  {
   "cell_type": "code",
   "execution_count": 13,
   "id": "96184932-1d73-4e06-9b7a-ce3fa95b5dca",
   "metadata": {},
   "outputs": [
    {
     "name": "stdout",
     "output_type": "stream",
     "text": [
      "4\n"
     ]
    }
   ],
   "source": [
    "# quadro 02\n",
    "if a == 2 or  b < 7:\n",
    "    print(( a + 2 ) * ( b - 2))\n",
    "else:\n",
    "    print(( a + b ) / d (c + d))"
   ]
  },
  {
   "cell_type": "code",
   "execution_count": 12,
   "id": "4273abfd-d32b-4139-812f-31a727235dcb",
   "metadata": {},
   "outputs": [
    {
     "name": "stdout",
     "output_type": "stream",
     "text": [
      "7.777777777777779\n"
     ]
    }
   ],
   "source": [
    "# quadro 03\n",
    "if a > 2 and b < 7:\n",
    "    print(( a + b ) * (b-2))\n",
    "else: \n",
    "    print(( a + b ) / d * (c + d))"
   ]
  },
  {
   "cell_type": "markdown",
   "id": "55c57533-37ec-45a3-8743-aedd0a0397a9",
   "metadata": {},
   "source": [
    "### laços de repetição while"
   ]
  },
  {
   "cell_type": "code",
   "execution_count": 22,
   "id": "e9c8b2b5-f060-4902-81d9-92e835f4d579",
   "metadata": {},
   "outputs": [
    {
     "name": "stdout",
     "output_type": "stream",
     "text": [
      "valor:  1\n",
      "valor:  2\n",
      "valor:  3\n",
      "Acabou\n"
     ]
    }
   ],
   "source": [
    "contador = 0\n",
    "while contador < 3:\n",
    "    contador += 1\n",
    "    print('valor: ',contador)\n",
    "    \n",
    "print('Acabou')\n"
   ]
  },
  {
   "cell_type": "code",
   "execution_count": 31,
   "id": "f0c2ab10-8a55-4d57-bb89-c748793e70eb",
   "metadata": {},
   "outputs": [
    {
     "name": "stdout",
     "output_type": "stream",
     "text": [
      "8\n",
      "9\n",
      "10\n",
      "11\n",
      "12\n",
      "acabou\n"
     ]
    }
   ],
   "source": [
    "# Exercicíso \n",
    "i = 7\n",
    "while i < 12:\n",
    "    i += 1\n",
    "    print(i)\n",
    "print('acabou')"
   ]
  },
  {
   "cell_type": "code",
   "execution_count": 30,
   "id": "002340cb-cd65-477c-9640-8f0eadb65302",
   "metadata": {},
   "outputs": [
    {
     "name": "stdout",
     "output_type": "stream",
     "text": [
      "19\n",
      "18\n",
      "17\n",
      "16\n",
      "15\n",
      "14\n",
      "acabou\n"
     ]
    }
   ],
   "source": [
    "j = 19\n",
    "while j > 13:\n",
    "    print(j)\n",
    "    j -= 1\n",
    "print('acabou')"
   ]
  },
  {
   "cell_type": "markdown",
   "id": "7ff607ce-8d67-4f69-bdf7-5e3f863703f1",
   "metadata": {},
   "source": [
    "### laço de repetição for"
   ]
  },
  {
   "cell_type": "code",
   "execution_count": 32,
   "id": "04c1dabf-fb41-49fe-b346-536c9d24d9a3",
   "metadata": {},
   "outputs": [
    {
     "name": "stdout",
     "output_type": "stream",
     "text": [
      "0\n",
      "1\n",
      "2\n",
      "3\n",
      "4\n"
     ]
    }
   ],
   "source": [
    "for i in range(5):\n",
    "    print(i)"
   ]
  },
  {
   "cell_type": "code",
   "execution_count": 33,
   "id": "b9acadfa-3ae4-4d36-804b-9594f136624e",
   "metadata": {},
   "outputs": [
    {
     "name": "stdout",
     "output_type": "stream",
     "text": [
      "2\n",
      "4\n",
      "6\n",
      "8\n",
      "10\n"
     ]
    }
   ],
   "source": [
    "for i in range(1,11):\n",
    "    if i % 2 != 1:\n",
    "        print(i)"
   ]
  },
  {
   "cell_type": "code",
   "execution_count": null,
   "id": "4c35049e-4cee-4cc7-86e6-41ef5923c890",
   "metadata": {},
   "outputs": [],
   "source": []
  }
 ],
 "metadata": {
  "kernelspec": {
   "display_name": "Python 3 (ipykernel)",
   "language": "python",
   "name": "python3"
  },
  "language_info": {
   "codemirror_mode": {
    "name": "ipython",
    "version": 3
   },
   "file_extension": ".py",
   "mimetype": "text/x-python",
   "name": "python",
   "nbconvert_exporter": "python",
   "pygments_lexer": "ipython3",
   "version": "3.12.7"
  }
 },
 "nbformat": 4,
 "nbformat_minor": 5
}
