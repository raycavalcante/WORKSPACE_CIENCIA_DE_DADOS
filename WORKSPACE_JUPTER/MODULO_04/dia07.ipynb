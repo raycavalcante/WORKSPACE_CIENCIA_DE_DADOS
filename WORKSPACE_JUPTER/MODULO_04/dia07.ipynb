vulgo = 'Gabriel'
idade = 19
altura = 1.70
print(vulgo)
# dia 08
print('Nome: '+vulgo)
print('Sua idade: '+str(idade))
print('Sua altura: '+str(altura))
# ------------------------------------------
modelo = 'BIZ' 
cilindradas = 125
pesoTotal = 200
valorVenda = 23000
anoLançamento = 2025
marca = 'HONDA'
# print("Modelo: {} \n Cilindrada: {} \n Peso total: {} \n Valor venda: {}  \n ANo lançamento: {} \n Marca: {}".format(modelo,cilindradas,pesoTotal,valorVenda,anoLançamento,marca))

print('Modelo: '+str(modelo))
print('Cilindrada: '+str(cilindradas))
print('Peso Total: '+str(pesoTotal))
print('Ano lançamento: '+str(anoLançamento))
print('Marca:  '+str(marca))