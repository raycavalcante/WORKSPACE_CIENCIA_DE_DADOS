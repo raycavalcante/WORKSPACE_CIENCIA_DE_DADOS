{
 "cells": [
  {
   "cell_type": "markdown",
   "id": "30c01a25-6d3d-4e48-a2c7-6124f91368fc",
   "metadata": {},
   "source": [
    "# EXERCICÍOS PRATICOS"
   ]
  },
  {
   "cell_type": "code",
   "execution_count": 7,
   "id": "21202426-b397-47f0-aa6c-9958e919269d",
   "metadata": {},
   "outputs": [
    {
     "name": "stdin",
     "output_type": "stream",
     "text": [
      "Entre com um valor de A inicial:  10\n",
      "Entre com um valor de B inicial:  5\n"
     ]
    },
    {
     "name": "stdout",
     "output_type": "stream",
     "text": [
      "Valores iniciais: \n",
      "A: 10\n",
      "B: 5\n",
      "Valores finais: \n",
      "A: 5\n",
      "B: 10\n"
     ]
    }
   ],
   "source": [
    "# QUES01\n",
    "a = int(input('Entre com um valor de A inicial: '))\n",
    "b = int(input('Entre com um valor de B inicial: '))\n",
    "print('Valores iniciais: ')\n",
    "print('A: '+str(a))\n",
    "print('B: '+str(b))\n",
    "x = a\n",
    "a = b\n",
    "b = x\n",
    "print('Valores finais: ')\n",
    "print('A: '+str(a))\n",
    "print('B: '+str(b))"
   ]
  },
  {
   "cell_type": "code",
   "execution_count": 8,
   "id": "ae277769-7699-4571-ba12-f364d4389b93",
   "metadata": {},
   "outputs": [
    {
     "name": "stdin",
     "output_type": "stream",
     "text": [
      "Entre com a temperatura em celcius:  10\n"
     ]
    },
    {
     "name": "stdout",
     "output_type": "stream",
     "text": [
      "a temperatura em celcius convertida para Fahreiheit equivale á: 50.0\n"
     ]
    }
   ],
   "source": [
    "# QUES02\n",
    "c = float(input('Entre com a temperatura em celcius: '))\n",
    "f = (9 * c + 160) / 5\n",
    "print('a temperatura em celcius convertida para Fahreiheit equivale á: '+str(f))"
   ]
  },
  {
   "cell_type": "code",
   "execution_count": 10,
   "id": "c4a18568-d7a1-45ba-8fd9-c407d397fd49",
   "metadata": {},
   "outputs": [
    {
     "name": "stdin",
     "output_type": "stream",
     "text": [
      "Entre com a temperatura em Fahreiheit:  10\n"
     ]
    },
    {
     "name": "stdout",
     "output_type": "stream",
     "text": [
      "a temperatura em Fahreiheit convertida para celcius equivale á: 10.0\n"
     ]
    }
   ],
   "source": [
    "# QUES03\n",
    "f = float(input('Entre com a temperatura em Fahreiheit: '))\n",
    "c = (f-32) * (5/9)\n",
    "print('a temperatura em Fahreiheit convertida para celcius equivale á: '+str(f))"
   ]
  },
  {
   "cell_type": "code",
   "execution_count": 14,
   "id": "ffdb0015-9409-4dc2-b67b-00f3a1f10433",
   "metadata": {},
   "outputs": [
    {
     "data": {
      "text/plain": [
       "'prestação do valor em atraso: 1100.0'"
      ]
     },
     "metadata": {},
     "output_type": "display_data"
    }
   ],
   "source": [
    "# QUES04\n",
    "valor = 500\n",
    "taxa = 10\n",
    "tempo =  12\n",
    "prestacao = valor + ((valor * taxa / 100) * tempo)\n",
    "display('prestação do valor em atraso: '+str(prestacao))"
   ]
  },
  {
   "cell_type": "markdown",
   "id": "14b392ab-3fd6-4b10-898f-015c52789ac0",
   "metadata": {},
   "source": [
    "# OPERADORES RELACIONAIS"
   ]
  },
  {
   "cell_type": "code",
   "execution_count": 18,
   "id": "5f437f3e-da67-418f-8721-eb5daed78477",
   "metadata": {},
   "outputs": [
    {
     "name": "stdout",
     "output_type": "stream",
     "text": [
      "True\n",
      "False\n",
      "False\n",
      "True\n",
      "True\n",
      "False\n",
      "False\n"
     ]
    }
   ],
   "source": [
    "# operadores relacionais\n",
    "a = 5\n",
    "b= 2\n",
    "# comparação maior >\n",
    "maior = a > b\n",
    "print(maior)\n",
    "# comparação menor < \n",
    "menor = a < b\n",
    "print(menor)\n",
    "# comparação igual\n",
    "igual = a == b\n",
    "print(igual)\n",
    "# comparacao diferente\n",
    "diferente = a != b\n",
    "print(diferente)\n",
    "# maior igual \n",
    "maior_igual = a >= b\n",
    "print(maior_igual)\n",
    "# menor igual \n",
    "menor_igual = a <= b\n",
    "print(menor_igual)\n",
    "# comparando nome\n",
    "nome1 = 'Ray'\n",
    "nome2 = 'ray'\n",
    "comparacao_nomes = nome1 == nome2\n",
    "print(comparacao_nomes)"
   ]
  },
  {
   "cell_type": "markdown",
   "id": "8facc347-ef4a-4266-b0f1-902540e5d9c6",
   "metadata": {},
   "source": [
    "# OPERADORES CONDICIONAIS"
   ]
  },
  {
   "cell_type": "code",
   "execution_count": 32,
   "id": "186c6e4d-3560-40de-99bf-340691322d13",
   "metadata": {},
   "outputs": [
    {
     "name": "stdout",
     "output_type": "stream",
     "text": [
      "Joana é mais alta:  160\n"
     ]
    }
   ],
   "source": [
    "altura_maria = 150\n",
    "altura_joana = 160\n",
    "# quem é maior\n",
    "if altura_maria > altura_joana:\n",
    "    print('Maria é mais alta: ',altura_maria)\n",
    "else:\n",
    "    print('Joana é mais alta: ',altura_joana)"
   ]
  },
  {
   "cell_type": "code",
   "execution_count": 40,
   "id": "c41873ec-8247-4e22-aa64-651bbdb7e834",
   "metadata": {},
   "outputs": [
    {
     "name": "stdout",
     "output_type": "stream",
     "text": [
      "vota\n"
     ]
    }
   ],
   "source": [
    "# condição para votar com idade minima de 18\n",
    "idade = 16\n",
    "saida = 'Não vota'\n",
    "if idade > 15:\n",
    "    saida = 'vota'\n",
    "print(saida)"
   ]
  },
  {
   "cell_type": "markdown",
   "id": "b1c6b8a9-5ea1-43c8-84d9-e616a0693555",
   "metadata": {},
   "source": [
    "# OPERADORES CONDICIONAIS LÓGICOS"
   ]
  },
  {
   "cell_type": "code",
   "execution_count": 50,
   "id": "3b23ad3f-c4c2-44b6-9682-550b260a4bd9",
   "metadata": {},
   "outputs": [
    {
     "name": "stdout",
     "output_type": "stream",
     "text": [
      "False\n",
      " and\n",
      "True\n"
     ]
    },
    {
     "data": {
      "text/plain": [
       "'----------------------'"
      ]
     },
     "metadata": {},
     "output_type": "display_data"
    },
    {
     "name": "stdout",
     "output_type": "stream",
     "text": [
      "Não aceito\n"
     ]
    },
    {
     "data": {
      "text/plain": [
       "'----------------------'"
      ]
     },
     "metadata": {},
     "output_type": "display_data"
    },
    {
     "name": "stdout",
     "output_type": "stream",
     "text": [
      "Aceito nas forças armadas\n"
     ]
    }
   ],
   "source": [
    "altura_pedro = 150\n",
    "idade_pedro = 19\n",
    "print(altura_pedro > 164)\n",
    "print(' and')\n",
    "print(idade_pedro > 17)\n",
    "display('----------------------')\n",
    "s = 'Não aceito'\n",
    "if altura_pedro > 164 and idade_pedro > 17:\n",
    "    s = 'Aceito nas forças armadas'\n",
    "print(s)\n",
    "display('----------------------')\n",
    "s = 'Não aceito'\n",
    "if altura_pedro > 164 or idade_pedro > 17:\n",
    "    s = 'Aceito nas forças armadas'\n",
    "print(s)"
   ]
  },
  {
   "cell_type": "code",
   "execution_count": null,
   "id": "d0cb5214-d16f-4bbe-bbd5-8c54c66e51d0",
   "metadata": {},
   "outputs": [],
   "source": []
  }
 ],
 "metadata": {
  "kernelspec": {
   "display_name": "Python 3 (ipykernel)",
   "language": "python",
   "name": "python3"
  },
  "language_info": {
   "codemirror_mode": {
    "name": "ipython",
    "version": 3
   },
   "file_extension": ".py",
   "mimetype": "text/x-python",
   "name": "python",
   "nbconvert_exporter": "python",
   "pygments_lexer": "ipython3",
   "version": "3.12.7"
  }
 },
 "nbformat": 4,
 "nbformat_minor": 5
}
