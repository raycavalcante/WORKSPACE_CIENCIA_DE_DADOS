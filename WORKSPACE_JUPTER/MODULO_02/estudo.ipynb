{
 "cells": [
  {
   "cell_type": "markdown",
   "id": "66cb361f-91ae-4a5c-8e1f-a1e245db9035",
   "metadata": {},
   "source": [
    "# listas"
   ]
  },
  {
   "cell_type": "code",
   "execution_count": 23,
   "id": "e2ebc41a-ab30-419a-b849-9807931d3d3f",
   "metadata": {},
   "outputs": [
    {
     "name": "stdout",
     "output_type": "stream",
     "text": [
      "5\n",
      "6\n",
      "Açai\n",
      "['Arroz', 'Feijão', 'Açúcar', 'Farinha', 'Óleo', 'Tomate']\n",
      "['Arroz', 'Feijão', 'Açúcar', 'Farinha', 'Óleo']\n",
      "deixando a lista em ordem alfabetica \n",
      "['Arroz', 'Açúcar', 'Farinha', 'Feijão', 'Óleo']\n",
      "deixando a lista em desordem  \n",
      "['Óleo', 'Feijão', 'Farinha', 'Açúcar', 'Arroz']\n",
      "[10, 5, 11, 3]\n",
      "[3, 5, 10, 11]\n",
      "[11, 10, 5, 3]\n",
      "11\n",
      "3\n"
     ]
    }
   ],
   "source": [
    "carros = ['Arroz', 'Feijão', 'Açúcar', 'Farinha', 'Óleo']\n",
    "# varificando o tamanho da lista\n",
    "tamanho_da_lista = len(carros)\n",
    "print(tamanho_da_lista)\n",
    "# adicionando o elemento açai na lista\n",
    "carros.append('Açai')\n",
    "# verificando o tamanho dos elementos com um novo elemento adicionado\n",
    "tamanho_da_lista = len(carros)\n",
    "print(tamanho_da_lista)\n",
    "print(carros[5])\n",
    "# mudando o nome do item da posição 6 no indice 5\n",
    "carros[5] = 'Tomate'\n",
    "print(carros)\n",
    "# apagando o item de numero 6 do indice 5\n",
    "del carros[5]\n",
    "print(carros)\n",
    "# deixando a lista em ordem alfabetica \n",
    "print('deixando a lista em ordem alfabetica ')\n",
    "carros.sort()\n",
    "print(carros)\n",
    "# deixando a lista em desordem\n",
    "print('deixando a lista em desordem  ')\n",
    "carros.sort(reverse=True)\n",
    "print(carros)\n",
    "# trabalhando com lista numericas\n",
    "lista = [10, 5, 11, 3]\n",
    "print(lista)\n",
    "lista.sort()\n",
    "print(lista)\n",
    "lista.sort(reverse=True)\n",
    "print(lista)\n",
    "# achando o maior elemento da lista\n",
    "maior_elemento = max(lista)\n",
    "print(maior_elemento)\n",
    "# achando o menor elemento da lista\n",
    "menor_elemento = min(lista)\n",
    "print(menor_elemento)"
   ]
  },
  {
   "cell_type": "markdown",
   "id": "d87f1ecf-a22d-4ad5-aabf-d98c238398a9",
   "metadata": {},
   "source": [
    "### Laço while"
   ]
  },
  {
   "cell_type": "code",
   "execution_count": 30,
   "id": "82f5c14f-eda4-4c13-925a-9eb1a94c409b",
   "metadata": {},
   "outputs": [
    {
     "name": "stdout",
     "output_type": "stream",
     "text": [
      "1 2 3 4 5 6 7 8 9 10 11 12 13 14 15 16 17 18 19 20 "
     ]
    }
   ],
   "source": [
    "i = 0\n",
    "while i < 20:\n",
    "    i += 1\n",
    "    print(i, end=' ')"
   ]
  },
  {
   "cell_type": "markdown",
   "id": "2e725170-2f69-49af-aaae-74f12001bcc5",
   "metadata": {},
   "source": [
    "### Laço for"
   ]
  },
  {
   "cell_type": "code",
   "execution_count": 37,
   "id": "d544e7ca-2950-4c4f-acde-a88cc031deac",
   "metadata": {},
   "outputs": [
    {
     "name": "stdout",
     "output_type": "stream",
     "text": [
      "1 2 3 4 5 6 7 8 9 10 \n",
      "--------------------\n",
      "Óleo\n",
      "Feijão\n",
      "Farinha\n",
      "Açúcar\n",
      "Arroz\n"
     ]
    }
   ],
   "source": [
    "for i in range(1,11):\n",
    "    print(i, end=' ')\n",
    "print('\\n--------------------')\n",
    "for item in carros:\n",
    "    print(item)"
   ]
  },
  {
   "cell_type": "code",
   "execution_count": 38,
   "id": "c3e34dd7-b210-40f8-9280-a48bd901a36e",
   "metadata": {},
   "outputs": [
    {
     "name": "stdout",
     "output_type": "stream",
     "text": [
      "[10, 20, 30, 40, 50]\n",
      "[20, 40, 60, 80, 100]\n"
     ]
    }
   ],
   "source": [
    "# lista dobrar\n",
    "lista = [10,20,30,40,50]\n",
    "lista_dobrar = []\n",
    "print(lista)\n",
    "for item in lista:\n",
    "    lista_dobrar.append(item * 2)\n",
    "print(lista_dobrar)"
   ]
  },
  {
   "cell_type": "markdown",
   "id": "9b68c608-8236-42d6-a066-7170c86d5327",
   "metadata": {},
   "source": [
    "### MATRIZES"
   ]
  },
  {
   "cell_type": "code",
   "execution_count": 2,
   "id": "2abb5908-3dc8-41a0-882a-1376ebaddb47",
   "metadata": {},
   "outputs": [
    {
     "name": "stdout",
     "output_type": "stream",
     "text": [
      "3\n"
     ]
    }
   ],
   "source": [
    "matriz = [[1,2,3],[2,3,4],[7,8,9]]\n",
    "print(matriz[0][2])"
   ]
  },
  {
   "cell_type": "code",
   "execution_count": 11,
   "id": "37243b0e-9a3d-4de5-83ba-73ea66957659",
   "metadata": {},
   "outputs": [
    {
     "name": "stdout",
     "output_type": "stream",
     "text": [
      "[[1, 2, 3, 9], [2, 3, 4, 9], [7, 8, 9, 9]]\n"
     ]
    }
   ],
   "source": [
    "matriz[1].append(9)\n",
    "print(matriz)"
   ]
  },
  {
   "cell_type": "code",
   "execution_count": 16,
   "id": "6f5e3ce9-82c5-466c-a129-c847740708b3",
   "metadata": {},
   "outputs": [
    {
     "name": "stdout",
     "output_type": "stream",
     "text": [
      "['Arroz', 'feijão', 'farinha']\n"
     ]
    }
   ],
   "source": [
    "produto = {\n",
    "    'Nome': ['Arroz','feijão','farinha'],\n",
    "    'quantidade': [3,5,6]\n",
    "}\n",
    "nome = produto['Nome']\n",
    "print(nome)"
   ]
  },
  {
   "cell_type": "code",
   "execution_count": 28,
   "id": "af1577e6-fe80-4fb7-b40e-a5723008571d",
   "metadata": {},
   "outputs": [],
   "source": [
    "num = [1,2,8,4,5]\n",
    "letra = ['a','b','c','d','e']\n",
    "import matplotlib.pyplot as plt"
   ]
  },
  {
   "cell_type": "code",
   "execution_count": 38,
   "id": "65620be1-a4f9-4e24-99ef-2af96e5d86f6",
   "metadata": {},
   "outputs": [
    {
     "data": {
      "image/png": "[encoded data removed]",
      "text/plain": [
       "<Figure size 640x480 with 1 Axes>"
      ]
     },
     "metadata": {},
     "output_type": "display_data"
    }
   ],
   "source": [
    "plt.plot(letra, num, marker='o')\n",
    "plt.xlabel('Letar')\n",
    "plt.ylabel('Numero')\n",
    "plt.title('Meu grafico')\n",
    "plt.grid()\n",
    "# plt.legend()\n",
    "plt.show()"
   ]
  },
  {
   "cell_type": "raw",
   "id": "5d2c4076-0bae-45f5-b9e5-467247bc0672",
   "metadata": {},
   "source": [
    "plt.bar(letras, num)\n",
    "plt.xlabel('Letar')\n",
    "plt.ylabel('Numero')\n",
    "plt.title('Meu grafico')\n",
    "plt.grid()\n",
    "# plt.legend()\n",
    "plt.show()"
   ]
  },
  {
   "cell_type": "code",
   "execution_count": null,
   "id": "86db1d87-ef03-4fff-a266-fe276721854a",
   "metadata": {},
   "outputs": [],
   "source": []
  }
 ],
 "metadata": {
  "kernelspec": {
   "display_name": "Python 3 (ipykernel)",
   "language": "python",
   "name": "python3"
  },
  "language_info": {
   "codemirror_mode": {
    "name": "ipython",
    "version": 3
   },
   "file_extension": ".py",
   "mimetype": "text/x-python",
   "name": "python",
   "nbconvert_exporter": "python",
   "pygments_lexer": "ipython3",
   "version": "3.12.7"
  }
 },
 "nbformat": 4,
 "nbformat_minor": 5
}
