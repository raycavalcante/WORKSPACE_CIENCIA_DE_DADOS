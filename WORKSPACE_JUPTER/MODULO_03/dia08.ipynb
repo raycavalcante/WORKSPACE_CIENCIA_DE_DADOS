{
 "cells": [
  {
   "cell_type": "code",
   "execution_count": 1,
   "id": "77d342a8-9298-4885-92c8-2c1cb6a08730",
   "metadata": {},
   "outputs": [
    {
     "name": "stdout",
     "output_type": "stream",
     "text": [
      "Média das alturas: 1.7333333333333334\n"
     ]
    }
   ],
   "source": [
    "maria = 1.90\n",
    "juana = 1.80\n",
    "Pedro = 1.50\n",
    "\n",
    "media_alturas = (maria+juana+Pedro) / 3\n",
    "\n",
    "print('Média das alturas: '+str(media_alturas))"
   ]
  },
  {
   "cell_type": "code",
   "execution_count": 11,
   "id": "88ef8a90-d38c-4218-8e55-24555aa928d5",
   "metadata": {},
   "outputs": [
    {
     "name": "stdin",
     "output_type": "stream",
     "text": [
      "Entre com a quantidade de horas trabalhadas por mês:  160\n",
      "Entre com o valor por hora:  50\n",
      "Entre com percentual de desconto:  10\n"
     ]
    },
    {
     "name": "stdout",
     "output_type": "stream",
     "text": [
      "Salário bruto: 8000.0\n",
      "Salário liquido: 7200.0\n"
     ]
    }
   ],
   "source": [
    "horas_trabalho = int(input('Entre com a quantidade de horas trabalhadas por mês: '))\n",
    "valor_hora = float(input('Entre com o valor por hora: '))\n",
    "percentual_desconto = float(input('Entre com percentual de desconto: '))\n",
    "\n",
    "salario_bruto =  horas_trabalho * valor_hora\n",
    "\n",
    "total_desconto = salario_bruto * (percentual_desconto / 100)\n",
    "# total_desconto = percentual_desconto / 100\n",
    "\n",
    "salario_liquido = salario_bruto - total_desconto\n",
    "\n",
    "print('Salário bruto: '+str(salario_bruto))\n",
    "print('Salário liquido: '+str(salario_liquido))\n"
   ]
  },
  {
   "cell_type": "code",
   "execution_count": null,
   "id": "077618e9-5b69-4981-a81b-ea112241597b",
   "metadata": {},
   "outputs": [],
   "source": []
  }
 ],
 "metadata": {
  "kernelspec": {
   "display_name": "Python 3 (ipykernel)",
   "language": "python",
   "name": "python3"
  },
  "language_info": {
   "codemirror_mode": {
    "name": "ipython",
    "version": 3
   },
   "file_extension": ".py",
   "mimetype": "text/x-python",
   "name": "python",
   "nbconvert_exporter": "python",
   "pygments_lexer": "ipython3",
   "version": "3.12.7"
  }
 },
 "nbformat": 4,
 "nbformat_minor": 5
}
