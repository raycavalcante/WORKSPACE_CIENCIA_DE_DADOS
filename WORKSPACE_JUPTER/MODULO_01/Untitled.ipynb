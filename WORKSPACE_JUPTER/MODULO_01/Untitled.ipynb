{
 "cells": [
  {
   "cell_type": "markdown",
   "id": "f2d5efbd-c4df-49fe-a254-83892a3cbec8",
   "metadata": {},
   "source": [
    "# Lista de exercicío 01"
   ]
  },
  {
   "cell_type": "code",
   "execution_count": 36,
   "id": "496a6ac4-5bee-44f5-a1a9-273386817990",
   "metadata": {},
   "outputs": [
    {
     "name": "stdin",
     "output_type": "stream",
     "text": [
      "Entre com o 1º peixe:  pacu\n",
      "Entre com o 2º peixe:  traira\n",
      "Entre com o 3º peixe:  pirarucu\n",
      "Entre com o 4º peixe:  dourado\n",
      "Entre com o 5º peixe:  tambaqui\n",
      "Entre com o 6º peixe:  pintado\n",
      "Entre com o 7º peixe:  dourado\n",
      "Entre com o 8º peixe:  sardinha\n"
     ]
    },
    {
     "name": "stdout",
     "output_type": "stream",
     "text": [
      "--------------------------------------------------\n",
      "LISTA DOS PEIXES\n",
      " 1º peixe: pacu \n",
      " 2º peixe: traira \n",
      " 3º peixe: pirarucu \n",
      " 4º peixe: dourado \n",
      " 5º peixe: tambaqui \n",
      " 6º peixe: pintado \n",
      " 7º peixe: dourado \n",
      " 8º peixe: sardinha \n",
      "--------------------------------------------------\n",
      "LISTA DOS PEIXES APÓS A EXCLUSÃO DO PEIXE TAMBAQUI \n",
      " 1º peixe: pacu \n",
      " 2º peixe: traira \n",
      " 3º peixe: pirarucu \n",
      " 4º peixe: dourado \n",
      " 5º peixe: pintado \n",
      " 6º peixe: dourado \n",
      " 7º peixe: sardinha \n"
     ]
    }
   ],
   "source": [
    "# QUES01\n",
    "# Lista dos peixes vazio\n",
    "lista_peixe = []\n",
    "# inserindo os valores com for \n",
    "for i in range(2):\n",
    "    peixe = str(input(f'Entre com o {i+1}º peixe: '))\n",
    "    lista_peixe.append(peixe)\n",
    "# printandos os elementos da lista com o for\n",
    "print('--------------------------------------------------')\n",
    "print('LISTA DOS PEIXES')\n",
    "for i in range(len(lista_peixe)):\n",
    "    print(f' {i+1}º peixe: {lista_peixe[i]} ')\n",
    "# excluindo o peixe com valor tambaqui\n",
    "print('--------------------------------------------------')\n",
    "for i in lista_peixe:\n",
    "    palavra = i.upper()\n",
    "    if palavra == 'TAMBAQUI':\n",
    "        lista_peixe.remove(i)\n",
    "print('LISTA DOS PEIXES APÓS A EXCLUSÃO DO PEIXE TAMBAQUI ')\n",
    "for i in range(len(lista_peixe)):\n",
    "    print(f' {i+1}º peixe: {lista_peixe[i]} ')"
   ]
  },
  {
   "cell_type": "code",
   "execution_count": 68,
   "id": "c6c2df0f-5a5f-42fa-85da-7ecb8c7ca585",
   "metadata": {},
   "outputs": [
    {
     "name": "stdin",
     "output_type": "stream",
     "text": [
      "Entre com o 1º peixe:  1\n",
      "Entre com o 2º peixe:  2\n",
      "Entre com o 3º peixe:  3\n",
      "Entre com o 4º peixe:  4\n",
      "Entre com o 5º peixe:  5\n",
      "Entre com o 6º peixe:  6\n",
      "Entre com o 7º peixe:  9\n",
      "Entre com o 8º peixe:  1\n"
     ]
    },
    {
     "name": "stdout",
     "output_type": "stream",
     "text": [
      "APRESENTANDO O MAIOR VALOR DA LISTA \n",
      "9\n",
      "--------------------------------------------------\n",
      "APRESENTANDO O MENOR VALOR DA LISTA \n",
      "1\n",
      "--------------------------------------------------\n",
      "APRESENTANDO O ULTIMO VALOR DA LISTA \n",
      "1\n"
     ]
    }
   ],
   "source": [
    "# QUES02\n",
    "# lista dos valores da lista\n",
    "lista_peixe_valores = []\n",
    "for i in range(8):\n",
    "    peixe = str(input(f'Entre com o {i+1}º peixe: '))\n",
    "    lista_peixe_valores.append(peixe)\n",
    "print('APRESENTANDO O MAIOR VALOR DA LISTA ')\n",
    "maior_valor = max(lista_peixe_valores)\n",
    "print(maior_valor)\n",
    "print('--------------------------------------------------')\n",
    "print('APRESENTANDO O MENOR VALOR DA LISTA ')\n",
    "menor_valor = min(lista_peixe_valores)\n",
    "print(menor_valor)\n",
    "print('--------------------------------------------------')\n",
    "print('APRESENTANDO O ULTIMO VALOR DA LISTA ')\n",
    "indice = len(lista_peixe_valores)\n",
    "print(lista_peixe_valores[indice-1])\n"
   ]
  },
  {
   "cell_type": "code",
   "execution_count": null,
   "id": "28d58589-8168-48f6-adc3-d40414df5dd2",
   "metadata": {},
   "outputs": [],
   "source": []
  }
 ],
 "metadata": {
  "kernelspec": {
   "display_name": "Python [conda env:base] *",
   "language": "python",
   "name": "conda-base-py"
  },
  "language_info": {
   "codemirror_mode": {
    "name": "ipython",
    "version": 3
   },
   "file_extension": ".py",
   "mimetype": "text/x-python",
   "name": "python",
   "nbconvert_exporter": "python",
   "pygments_lexer": "ipython3",
   "version": "3.12.7"
  }
 },
 "nbformat": 4,
 "nbformat_minor": 5
}
