{
 "cells": [
  {
   "cell_type": "markdown",
   "id": "9941345d-e23b-4cdb-8218-b235c7af02ce",
   "metadata": {},
   "source": [
    "### COMEÇAMDO A USAR O PANDAS E ARQUIVOS  CSV"
   ]
  },
  {
   "cell_type": "code",
   "execution_count": 1,
   "id": "50f85013-ddf5-414a-90cc-50406d6b7389",
   "metadata": {},
   "outputs": [],
   "source": [
    "import pandas as pd"
   ]
  },
  {
   "cell_type": "code",
   "execution_count": 3,
   "id": "f88dd37d-ec14-4eae-af49-c40e95aea07c",
   "metadata": {},
   "outputs": [
    {
     "name": "stdout",
     "output_type": "stream",
     "text": [
      "  PRODUTO;VALORES;QUANATIDADE\n",
      "0           maracuja;20.00;12\n",
      "1            cupuaçu;15.00;10\n",
      "2             banana;30.00;30\n"
     ]
    }
   ],
   "source": [
    "produtos = pd.read_csv('produto.csv')\n",
    "print(produtos)"
   ]
  },
  {
   "cell_type": "code",
   "execution_count": null,
   "id": "5911a339-f7a8-4ec7-b505-15eddae5bdaf",
   "metadata": {},
   "outputs": [],
   "source": []
  }
 ],
 "metadata": {
  "kernelspec": {
   "display_name": "Python 3 (ipykernel)",
   "language": "python",
   "name": "python3"
  },
  "language_info": {
   "codemirror_mode": {
    "name": "ipython",
    "version": 3
   },
   "file_extension": ".py",
   "mimetype": "text/x-python",
   "name": "python",
   "nbconvert_exporter": "python",
   "pygments_lexer": "ipython3",
   "version": "3.12.7"
  }
 },
 "nbformat": 4,
 "nbformat_minor": 5
}
